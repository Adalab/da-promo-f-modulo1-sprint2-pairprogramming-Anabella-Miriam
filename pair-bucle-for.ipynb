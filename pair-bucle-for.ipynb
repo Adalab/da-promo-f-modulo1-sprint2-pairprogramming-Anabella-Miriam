{
 "cells": [
  {
   "cell_type": "markdown",
   "metadata": {},
   "source": [
    "## Ejericios bucles for\n",
    "1- Imprimir los números del 1 al 5 utilizando un bucle for\n",
    "Descripción: Utiliza un bucle for para imprimir los números del 1 al 50 (incluido) en orden ascendente.\n",
    "\n",
    "2- Calcular la suma de los primeros 10 números naturales utilizando un bucle for\n",
    "Descripción: Utiliza un bucle for para calcular la suma de los primeros 10 números naturales (1 + 2 + 3 + ... + 10).\n",
    "\n",
    "3- Calcular el producto de los elementos de una lista\n",
    "Descripción: Dada una lista de números, utiliza un bucle for para calcular el producto de todos los elementos."
   ]
  },
  {
   "cell_type": "markdown",
   "metadata": {},
   "source": [
    "4- Imprimir los caracteres de una cadena de texto\n",
    "Descripción: Dada una cadena de texto, utiliza un bucle for para imprimir cada carácter en una línea separada."
   ]
  },
  {
   "cell_type": "markdown",
   "metadata": {},
   "source": [
    "5 -Imprimir los números pares del 1 al 100 utilizando un bucle for\n",
    "Descripción: Utiliza un bucle for para imprimir los números pares del 1 al 100 en orden ascendente."
   ]
  },
  {
   "cell_type": "markdown",
   "metadata": {},
   "source": [
    "6 -Imprimir los números primos del 1 al 50 utilizando un bucle for\n",
    "Descripción: Utiliza un bucle for para imprimir los números primos del 1 al 50 en orden ascendente."
   ]
  },
  {
   "cell_type": "code",
   "execution_count": 2,
   "metadata": {},
   "outputs": [
    {
     "name": "stdout",
     "output_type": "stream",
     "text": [
      "1\n",
      "2\n",
      "3\n",
      "4\n",
      "5\n"
     ]
    }
   ],
   "source": [
    "#Ejercicio 1\n",
    "for numero in range (1,6):\n",
    "    print(numero)"
   ]
  },
  {
   "cell_type": "code",
   "execution_count": 61,
   "metadata": {},
   "outputs": [
    {
     "name": "stdout",
     "output_type": "stream",
     "text": [
      "1\n",
      "3\n",
      "6\n",
      "10\n",
      "15\n",
      "21\n",
      "28\n",
      "36\n",
      "45\n",
      "55\n"
     ]
    }
   ],
   "source": [
    "#Ejercicio 2\n",
    "suma = 0 \n",
    "i=0\n",
    "for numero in range (1,11):\n",
    "  suma = suma + numero\n",
    "  print(suma)\n",
    "\n",
    "\n",
    "\n"
   ]
  },
  {
   "cell_type": "code",
   "execution_count": null,
   "metadata": {},
   "outputs": [],
   "source": []
  },
  {
   "cell_type": "markdown",
   "metadata": {},
   "source": [
    "3- Calcular el producto de los elementos de una lista\n",
    "Descripción: Dada una lista de números, utiliza un bucle for para calcular el producto de todos los elementos."
   ]
  },
  {
   "cell_type": "code",
   "execution_count": 62,
   "metadata": {},
   "outputs": [
    {
     "name": "stdout",
     "output_type": "stream",
     "text": [
      "La multiplicación de todos los numeros es 120\n"
     ]
    }
   ],
   "source": [
    "lista = [1,2,3,4,5]\n",
    "multi= 1\n",
    "for numero in lista:\n",
    "    multi = numero *multi\n",
    "print(f\"La multiplicación de todos los numeros es {multi}\")\n",
    "    "
   ]
  },
  {
   "cell_type": "markdown",
   "metadata": {},
   "source": [
    "4- Imprimir los caracteres de una cadena de texto\n",
    "\n",
    "- Descripción: Dada una cadena de texto, utiliza un bucle for para imprimir cada carácter en una línea separada."
   ]
  },
  {
   "cell_type": "code",
   "execution_count": 10,
   "metadata": {},
   "outputs": [
    {
     "name": "stdout",
     "output_type": "stream",
     "text": [
      "H\n",
      "o\n",
      "y\n",
      " \n",
      "e\n",
      "s\n",
      " \n",
      "L\n",
      "u\n",
      "n\n",
      "e\n",
      "s\n"
     ]
    }
   ],
   "source": [
    "cadena = \"Hoy es Lunes\"\n",
    "for i in cadena:\n",
    "    print(i)"
   ]
  },
  {
   "cell_type": "markdown",
   "metadata": {},
   "source": [
    "5 -Imprimir los números pares del 1 al 100 utilizando un bucle for\n",
    "\n",
    "Descripción: Utiliza un bucle for para imprimir los números pares del 1 al 100 en orden ascendente."
   ]
  },
  {
   "cell_type": "code",
   "execution_count": null,
   "metadata": {},
   "outputs": [],
   "source": [
    "numeros = range(0,101)\n",
    "for numero in range (2,101,2):\n",
    "    print(numero)"
   ]
  },
  {
   "cell_type": "markdown",
   "metadata": {},
   "source": [
    "6 -Imprimir los números primos del 1 al 50 utilizando un bucle for\n",
    "\n",
    "Descripción: Utiliza un bucle for para imprimir los números primos del 1 al 50 en orden ascendente."
   ]
  },
  {
   "cell_type": "code",
   "execution_count": null,
   "metadata": {},
   "outputs": [],
   "source": [
    "#Un número es primo cuando es divisible por uno y por si mismo\n",
    "# divir el numero por todos sus anteriores y si hay una division exacta, residuo 0 entonces no es primo\n",
    "for num in range(1,51): #hacemos un bucle que recorra el range\n",
    "    if num > 1:\n",
    "      for i in range(2, num): #hacemos un segundo bucle para hacer la division entre los dos numeros y verificar si su división tiene resto o no\n",
    "        if (num % i) == 0:    # iniciamos el rango un número mas adelante \n",
    "          break\n",
    "      else:\n",
    "         print(num)"
   ]
  },
  {
   "cell_type": "markdown",
   "metadata": {},
   "source": [
    "7- Calcular el factorial de un número utilizando un bucle for\n",
    "\n",
    "Descripción: Dado un número entero positivo, calcula su factorial utilizando un bucle for.\n"
   ]
  },
  {
   "cell_type": "code",
   "execution_count": 50,
   "metadata": {},
   "outputs": [
    {
     "name": "stdout",
     "output_type": "stream",
     "text": [
      "El factorial de 2 es 2\n",
      "El factorial de 3 es 6\n",
      "El factorial de 4 es 24\n",
      "El factorial de 5 es 120\n"
     ]
    }
   ],
   "source": [
    "#4x3x2x1\n",
    "factorial = 1 #inicializamos la variable factorial\n",
    "n=5 #le asignamos valor a la variable con el factorial que queremos calcular\n",
    "for i in range(2, n + 1): # hacemos un range desde 2 hasta n + 1 para incluir el numero factorial\n",
    "    factorial *= i #multiplicamos lo que valga i en el range\n",
    "    print(f'El factorial de {i} es {factorial}')\n",
    "\n",
    "\n"
   ]
  },
  {
   "cell_type": "markdown",
   "metadata": {},
   "source": [
    "8 - Juego de adivinar palabras utilizando un bucle for\n",
    "\n",
    "Descripción: Crea un juego en el que el jugador debe adivinar una palabra secreta. El jugador tiene un número limitado de intentos y se le proporcionan pistas después de cada intento. Utiliza un bucle for para controlar los intentos del jugador."
   ]
  },
  {
   "cell_type": "code",
   "execution_count": 65,
   "metadata": {},
   "outputs": [
    {
     "name": "stdout",
     "output_type": "stream",
     "text": [
      "Incorrecto. Te quedan 4 intentos.\n",
      "Incorrecto. Te quedan 3 intentos.\n",
      "Incorrecto. Te quedan 2 intentos.\n",
      "la palabra python es correcta\n"
     ]
    }
   ],
   "source": [
    "palabra_secreta = 'python'\n",
    "#palabra_secreta: La palabra secreta que el jugador debe adivinar.\n",
    "#num_intentos: El número de intentos que tiene el jugador.\n",
    "num_intentos = 4\n",
    "for intento in range(num_intentos):\n",
    "    palabra_adivinada = input(\"Introduce una palabra: \")\n",
    "    if palabra_adivinada == palabra_secreta:\n",
    "      print(f'la palabra {palabra_adivinada} es correcta')\n",
    "      break\n",
    "    else:\n",
    "      print(f\"La palabra {palabra_adivinada} es incorrecta!!.Te quedan {num_intentos} intentos\")\n",
    "      num_intentos-=1\n",
    "\n",
    "    "
   ]
  },
  {
   "cell_type": "markdown",
   "metadata": {},
   "source": [
    "## Ejercicios list comprehension"
   ]
  },
  {
   "cell_type": "markdown",
   "metadata": {},
   "source": [
    "1- Generar una lista de los números pares del 1 al 20.\n",
    "Descripción: Utiliza list comprehension para generar una lista que contenga todos los números pares en el rango del 1 al 20."
   ]
  },
  {
   "cell_type": "code",
   "execution_count": 23,
   "metadata": {},
   "outputs": [
    {
     "name": "stdout",
     "output_type": "stream",
     "text": [
      "[2, 4, 6, 8, 10, 12, 14, 16, 18, 20]\n"
     ]
    }
   ],
   "source": [
    "lista = range(1,21)\n",
    "lista_pares= [i for i in lista if i%2 == 0]\n",
    "print(lista_pares)"
   ]
  },
  {
   "cell_type": "markdown",
   "metadata": {},
   "source": [
    "2- Obtener una lista de las vocales en una cadena de texto.\n",
    "Descripción: Utiliza list comprehension para crear una lista que contenga todas las vocales presentes en una cadena de texto (sin repetición)."
   ]
  },
  {
   "cell_type": "code",
   "execution_count": 29,
   "metadata": {},
   "outputs": [
    {
     "name": "stdout",
     "output_type": "stream",
     "text": [
      "['o', 'a', 'u', 'e', 'o', 'i', 'a', 'o', 'e', 'u', 'e']\n"
     ]
    }
   ],
   "source": [
    "#For ma larga de hacer el ejercicio para luego poder hacer \n",
    "cadena= 'Hola, buenos dias. Hoy es Lunes'\n",
    "vocales= 'a', 'e', 'i', 'o', 'u'\n",
    "lista_vocales_2= [vocal for vocal in cadena if vocal in vocales]\n",
    "print(lista_vocales_2)"
   ]
  },
  {
   "cell_type": "markdown",
   "metadata": {},
   "source": [
    "3- Filtrar los números positivos de una lista y calcular su cuadrado.\n",
    "Descripción: Utiliza list comprehension para filtrar los números positivos de una lista y calcular el cuadrado de cada uno."
   ]
  },
  {
   "cell_type": "code",
   "execution_count": 33,
   "metadata": {},
   "outputs": [
    {
     "name": "stdout",
     "output_type": "stream",
     "text": [
      "[1, 4, 16, 25, 36, 49, 64]\n"
     ]
    }
   ],
   "source": [
    "numeros_listado = [1,2,-2,4,-6,5,6,-8,7,8]\n",
    "numeros_cuadrados= [numero **2 for numero in numeros_listado if numero >0]\n",
    "print(numeros_cuadrados)"
   ]
  },
  {
   "cell_type": "markdown",
   "metadata": {},
   "source": [
    "## Ejercicios try ...except\n",
    "1-Realizar una búsqueda en una lista y capturar una excepción en caso de valor no encontrado.\n",
    "\n",
    "Descripción: Solicita al usuario una lista de nombres y un nombre para buscar en la lista. Intenta encontrar el nombre en la lista y utiliza las sentencias try y except para capturar la excepción en caso de que el nombre no sea encontrado."
   ]
  },
  {
   "cell_type": "code",
   "execution_count": null,
   "metadata": {},
   "outputs": [],
   "source": [
    "\n",
    "listado_nombres =[]\n",
    "listado = input ('Ingrese una lista de 6 nombres: ')\n",
    "listado_nombres.append(listado)\n",
    "listado_cantidad = 0\n",
    "while listado_cantidad  < 5:\n",
    "    listado = input ('Ingrese una lista de 6 nombres: ')\n",
    "    listado_nombres.append(listado)\n",
    "    listado_cantidad+=1\n",
    "print(listado_nombres)\n",
    "\n",
    "try:\n",
    "   opcion = input(f'Ingrese un nombre que desea buscar: ')\n",
    "   if opcion in listado_nombres:\n",
    "       print(f'El nombre de  {opcion} esta en el listado')\n",
    "\n",
    "except:\n",
    "    print('El nombre que busca no está en la lista, intente nuevamente')\n"
   ]
  }
 ],
 "metadata": {
  "kernelspec": {
   "display_name": "base",
   "language": "python",
   "name": "python3"
  },
  "language_info": {
   "codemirror_mode": {
    "name": "ipython",
    "version": 3
   },
   "file_extension": ".py",
   "mimetype": "text/x-python",
   "name": "python",
   "nbconvert_exporter": "python",
   "pygments_lexer": "ipython3",
   "version": "3.9.7"
  },
  "orig_nbformat": 4
 },
 "nbformat": 4,
 "nbformat_minor": 2
}
