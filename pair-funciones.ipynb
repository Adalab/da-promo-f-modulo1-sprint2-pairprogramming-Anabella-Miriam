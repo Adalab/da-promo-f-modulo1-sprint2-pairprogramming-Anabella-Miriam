{
 "cells": [
  {
   "cell_type": "markdown",
   "metadata": {},
   "source": [
    "1.Calcular el área de un círculo.\n",
    "\n",
    "Descripción: Crea una función llamada calcular_area_circulo que tome el radio como parámetro y devuelva el área del círculo.\n",
    "NOTA: Os dejamos  un link para recordar comose calculaba el área de un círculo.\n"
   ]
  },
  {
   "cell_type": "code",
   "execution_count": 66,
   "metadata": {},
   "outputs": [
    {
     "data": {
      "text/plain": [
       "78.5"
      ]
     },
     "execution_count": 66,
     "metadata": {},
     "output_type": "execute_result"
    }
   ],
   "source": [
    "#circulo= 3.14 * radio**2\n",
    "\n",
    "def calcular_area_circulo (radio):\n",
    "\n",
    "    pi= 3.14\n",
    "    \n",
    "    area=pi*radio**2\n",
    "    return area\n",
    "calcular_area_circulo(5)"
   ]
  },
  {
   "cell_type": "markdown",
   "metadata": {},
   "source": [
    "2.\n",
    "Contar la cantidad de caracteres en una cadena.\n",
    "Descripción: Crea una función llamada contar_caracteres que tome una cadena como parámetro y devuelva la cantidad de caracteres que contiene."
   ]
  },
  {
   "cell_type": "code",
   "execution_count": 67,
   "metadata": {},
   "outputs": [
    {
     "data": {
      "text/plain": [
       "9"
      ]
     },
     "execution_count": 67,
     "metadata": {},
     "output_type": "execute_result"
    }
   ],
   "source": [
    "def contar_caracteres (cadena):\n",
    "    \n",
    "    return len(cadena)\n",
    "\n",
    "contar_caracteres (\"hola hola\")"
   ]
  },
  {
   "cell_type": "markdown",
   "metadata": {},
   "source": [
    "3. Determinar si una cadena es un palíndromo.\n",
    "\n",
    "Descripción: Crea una función llamada es_palindromo que tome una cadena como parámetro y devuelva True si es un palíndromo, o False si no lo es."
   ]
  },
  {
   "cell_type": "code",
   "execution_count": 5,
   "metadata": {},
   "outputs": [
    {
     "data": {
      "text/plain": [
       "True"
      ]
     },
     "execution_count": 5,
     "metadata": {},
     "output_type": "execute_result"
    }
   ],
   "source": [
    "def es_palindromo(cadena):\n",
    "\n",
    "    cadena_inversa = cadena[::-1]\n",
    "\n",
    "    if cadena == cadena_inversa:\n",
    "       return True\n",
    "       print('Es palindromo')\n",
    "    else:\n",
    "        return False\n",
    "        print('No es un palindromo')\n",
    "\n",
    "es_palindromo(\"madam\")\n",
    "\n"
   ]
  },
  {
   "cell_type": "markdown",
   "metadata": {},
   "source": [
    "4. Calcular el promedio de una lista de números.\n",
    "\n",
    "Descripción: Crea una función llamada calcular_promedio que tome una lista de números como parámetro y devuelva el promedio de todos sus elementos."
   ]
  },
  {
   "cell_type": "code",
   "execution_count": null,
   "metadata": {},
   "outputs": [
    {
     "data": {
      "text/plain": [
       "3.6666666666666665"
      ]
     },
     "execution_count": 9,
     "metadata": {},
     "output_type": "execute_result"
    }
   ],
   "source": [
    "def calcular_promedio(lista):\n",
    "    return sum(lista)/len(lista)\n",
    "\n",
    "calcular_promedio ([1,5,4,6,2,4])"
   ]
  },
  {
   "cell_type": "markdown",
   "metadata": {},
   "source": [
    "5. Calcular el interés compuesto.\n",
    "\n",
    "Descripción: Crea una función llamada calcular_interes_compuesto que tome el capital inicial, la tasa de interés y el número de períodos como parámetros y devuelva el beneficio final después del interés compuesto."
   ]
  },
  {
   "cell_type": "code",
   "execution_count": null,
   "metadata": {},
   "outputs": [
    {
     "data": {
      "text/plain": [
       "360.0"
      ]
     },
     "execution_count": 10,
     "metadata": {},
     "output_type": "execute_result"
    }
   ],
   "source": [
    "def calcular_interes_compuesto(capital_inicial,tasa_de_interes,numero_de_periodos):\n",
    "    \n",
    "    beneficio_final=capital_inicial*(1+tasa_de_interes)*numero_de_periodos\n",
    "    return beneficio_final\n",
    "calcular_interes_compuesto(100,0.2,3)\n",
    "\n"
   ]
  },
  {
   "cell_type": "markdown",
   "metadata": {},
   "source": [
    "6. Validar si una palabra es un anagrama de otra.\n",
    "\n",
    "Descripción: Crea una función llamada es_anagrama que tome dos palabras como parámetros y devuelva True si una es un anagrama de la otra, o False si no lo es."
   ]
  },
  {
   "cell_type": "code",
   "execution_count": null,
   "metadata": {},
   "outputs": [
    {
     "data": {
      "text/plain": [
       "False"
      ]
     },
     "execution_count": 9,
     "metadata": {},
     "output_type": "execute_result"
    }
   ],
   "source": [
    "def es_anagrama(palabra1, palabra2):\n",
    "    if len(palabra1) != len(palabra2): #Primero verificamos que ambas palabras tengan la misma longuitud\n",
    "        return False\n",
    "    contador = {} #Llevara la cuenta de letras de cada palabra\n",
    "    for letra in palabra1:\n",
    "        if letra in contador:\n",
    "            contador[letra] += 1 #Si la letra ya esta en el contador se incrementa en 1 y si no esta se agrega con contador 1\n",
    "        else:\n",
    "            contador[letra] = 1\n",
    "    for letra in palabra2:\n",
    "        if letra in contador:\n",
    "            contador[letra] -= 1 #Se hace lo mismo pero se decremeneta en 1\n",
    "        else:\n",
    "            return False\n",
    "    for letra in contador:\n",
    "        if contador[letra] != 0: #Se verifica si hay alguna letra que tenga un contador diferente de 0\n",
    "            return False         #Si es asi es porque las palabras no son anagramas. Si todas las letras tienen cero son anagramas\n",
    "    return True\n",
    "print(\"Anagramas:\",es_anagrama('amor', 'roma'))\n"
   ]
  },
  {
   "cell_type": "markdown",
   "metadata": {},
   "source": [
    "7. Validar si una cadena de texto es un isograma.\n",
    "\n",
    "Descripción: Crea una función llamada es_isograma que tome una cadena de texto como parámetro y devuelva True si es un isograma. En caso contrario, devuelve False.\n",
    "¿Qué es un isograma? Una palabra que no contiene letras repetidas.\n"
   ]
  },
  {
   "cell_type": "code",
   "execution_count": 4,
   "metadata": {},
   "outputs": [
    {
     "data": {
      "text/plain": [
       "True"
      ]
     },
     "execution_count": 4,
     "metadata": {},
     "output_type": "execute_result"
    }
   ],
   "source": [
    "#Un isograma es una palabra o frase en la que cada letra aparece \n",
    "#el mismo número de veces. ​ Si cada letra aparece solo una vez será un heterograma, \n",
    "#si aparece dos, un isogroma de segundo \n",
    "\n",
    "\n",
    "def es_isograma (cadena):\n",
    "   \n",
    "    diccionario_letras = {}\n",
    "    for i in cadena:\n",
    "      if i in diccionario_letras.keys() or i == \" \":\n",
    "        pass\n",
    "      else:\n",
    "        diccionario_letras[i]=cadena.count(i)\n",
    "        if cadena.count(i) < 2:\n",
    "          return True\n",
    "        else:\n",
    "           return False\n",
    "    \n",
    "es_isograma('hola')"
   ]
  },
  {
   "cell_type": "markdown",
   "metadata": {},
   "source": [
    "8.Concatenar múltiples cadenas de texto\n",
    "\n",
    "Descripción: Crea una función llamada concatenar_cadenas que tome una cantidad variable de cadenas de texto como argumentos y devuelva una única cadena que contenga la concatenación de todas las cadenas ingresadas.\n"
   ]
  },
  {
   "cell_type": "code",
   "execution_count": 3,
   "metadata": {},
   "outputs": [
    {
     "data": {
      "text/plain": [
       "'Hola estamos practicando python'"
      ]
     },
     "execution_count": 3,
     "metadata": {},
     "output_type": "execute_result"
    }
   ],
   "source": [
    "def concatenar_cadenas(*args):\n",
    "     \n",
    "    resultado_cadena= \"\"\n",
    "    for palabra in args:\n",
    "        resultado_cadena+= palabra\n",
    "    return resultado_cadena\n",
    "    \n",
    "concatenar_cadenas('Hola ', 'estamos', ' practicando', ' python') #Dejar espacios vacíos "
   ]
  },
  {
   "cell_type": "markdown",
   "metadata": {},
   "source": [
    "9.Crear un diccionario con información de una persona.\n",
    "\n",
    "Descripción: Crea una función llamada crear_persona que tome como argumentos clave-valor los datos de una persona, como nombre, edad, ciudad, etc., y devuelva un diccionario con toda la información ingresada.\n"
   ]
  },
  {
   "cell_type": "code",
   "execution_count": 2,
   "metadata": {},
   "outputs": [
    {
     "data": {
      "text/plain": [
       "{'nombre': 'Anabella', 'edad': 35, 'ciudad': 'Buenos Aires'}"
      ]
     },
     "execution_count": 2,
     "metadata": {},
     "output_type": "execute_result"
    }
   ],
   "source": [
    "def crear_persona (**kwargs): #No puede ser esta la solucion \n",
    "    return kwargs\n",
    "    \n",
    "crear_persona(nombre = 'Anabella', edad = 35, ciudad = 'Buenos Aires')\n",
    "\n"
   ]
  },
  {
   "cell_type": "markdown",
   "metadata": {},
   "source": [
    "10.Encontrar el número que falta en una lista ordenada de números consecutivos.\n",
    "\n",
    "Descripción: Crea una función llamada encontrar_numero_faltante que tome una lista de números consecutivos (del 1 al N, sin repetir) con un número faltante y devuelva ese número faltante.\n"
   ]
  },
  {
   "cell_type": "code",
   "execution_count": null,
   "metadata": {},
   "outputs": [],
   "source": [
    "#Falta resolver ejercicios\n",
    "\n"
   ]
  },
  {
   "cell_type": "markdown",
   "metadata": {},
   "source": [
    "11. Encontrar el elemento duplicado en una lista de números.\n",
    "\n",
    "Descripción: Crea una función llamada encontrar_duplicado que tome una lista de números enteros y devuelva el elemento que está duplicado en la lista."
   ]
  },
  {
   "cell_type": "code",
   "execution_count": null,
   "metadata": {},
   "outputs": [
    {
     "data": {
      "text/plain": [
       "{1, 4, 6, 7, 25}"
      ]
     },
     "execution_count": 65,
     "metadata": {},
     "output_type": "execute_result"
    }
   ],
   "source": [
    "#set\n",
    "#set(nombrelista)\n",
    "def encontrar_duplicado(lista): #utilizamos set para duplicados\n",
    "    elementos_unicos = set()\n",
    "\n",
    "    for elemento in lista:\n",
    "        if elemento in elementos_unicos:\n",
    "            return elemento\n",
    "        elementos_unicos.add(elemento)\n",
    "\n",
    "    return 'no hay elementos duplicados'\n",
    "\n",
    "print(encontrar_duplicado([1, 2, 3, 4, 5,]))\n",
    "print(encontrar_duplicado([1, 2, 3, 4, 5,6,7,8,8]))\n",
    "print(encontrar_duplicado([1, 2, 3, 4, 4,]))\n",
    "    \n",
    "\n",
    "\n",
    "    \n",
    "    "
   ]
  },
  {
   "cell_type": "code",
   "execution_count": null,
   "metadata": {},
   "outputs": [],
   "source": []
  },
  {
   "cell_type": "code",
   "execution_count": null,
   "metadata": {},
   "outputs": [],
   "source": []
  }
 ],
 "metadata": {
  "kernelspec": {
   "display_name": "base",
   "language": "python",
   "name": "python3"
  },
  "language_info": {
   "codemirror_mode": {
    "name": "ipython",
    "version": 3
   },
   "file_extension": ".py",
   "mimetype": "text/x-python",
   "name": "python",
   "nbconvert_exporter": "python",
   "pygments_lexer": "ipython3",
   "version": "3.9.7"
  },
  "orig_nbformat": 4
 },
 "nbformat": 4,
 "nbformat_minor": 2
}
