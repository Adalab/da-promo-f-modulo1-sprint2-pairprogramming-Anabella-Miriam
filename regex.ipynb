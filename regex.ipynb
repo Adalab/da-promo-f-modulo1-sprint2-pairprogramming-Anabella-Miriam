{
 "cells": [
  {
   "cell_type": "code",
   "execution_count": 31,
   "metadata": {},
   "outputs": [],
   "source": [
    "import re"
   ]
  },
  {
   "cell_type": "markdown",
   "metadata": {},
   "source": [
    "1 Validar un número de teléfono.\n",
    "Descripción: Verificar si una cadena representa un número de teléfono válido en el formato (XXX) XXX-XXXX.\n",
    "Probad para cada uno de los teléfonos que tenemos en la siguiente lista:\n",
    "telefonos = [\"(123) 456-7890\", \"178 1890-733\", \"(555) 238-1987\", \"(123) 4560-7890\", \"(ABC) 098-1111\"]"
   ]
  },
  {
   "cell_type": "code",
   "execution_count": 32,
   "metadata": {},
   "outputs": [
    {
     "name": "stdout",
     "output_type": "stream",
     "text": [
      "El (123) 456-7890 tiene formato correcto\n",
      "El 178 1890-733 no tiene formato válido\n",
      "El (555) 238-1987 tiene formato correcto\n",
      "El (123) 4560-7890 no tiene formato válido\n",
      "El (ABC) 098-1111 no tiene formato válido\n"
     ]
    }
   ],
   "source": [
    "import re\n",
    "\n",
    "telefonos = [\"(123) 456-7890\", \"178 1890-733\", \"(555) 238-1987\", \"(123) 4560-7890\", \"(ABC) 098-1111\"]\n",
    "\n",
    "patron1 =\"^\\(\\d{3}\\) \\d{3}-\\d{4}\"\n",
    "for elemento in telefonos:\n",
    "    if re.match(patron1,elemento):\n",
    "        print(f'El {elemento} tiene formato correcto')\n",
    "    else:\n",
    "       print(f'El {elemento} no tiene formato válido')\n",
    "\n"
   ]
  },
  {
   "cell_type": "markdown",
   "metadata": {},
   "source": [
    "2 Buscar todas las direcciones de correo electrónico en un texto.\n",
    "Descripción: Encontrar todas las direcciones de correo electrónico presentes en una cadena de texto.\n",
    "Probad con el siguiente string:\n",
    "texto = \"Mi correo es user@example.com. Contacta conmigo en john.doe@email.com\""
   ]
  },
  {
   "cell_type": "code",
   "execution_count": 33,
   "metadata": {},
   "outputs": [
    {
     "data": {
      "text/plain": [
       "['user@example.com.', 'john.doe@email.com']"
      ]
     },
     "execution_count": 33,
     "metadata": {},
     "output_type": "execute_result"
    }
   ],
   "source": [
    "import re\n",
    "texto = \"Mi correo es user@example.com. Contacta conmigo en john.doe@email.com\"\n",
    "patron3= r'\\S+@\\S+'\n",
    "\n",
    "mails_encontrados = re.findall(patron3, texto) \n",
    "mails_encontrados\n"
   ]
  },
  {
   "cell_type": "markdown",
   "metadata": {},
   "source": [
    "3 Validar un código postal.\n",
    "Descripción: Verificar si una cadena representa un código postal válido de 5 dígitos.\n",
    "Probad para cada uno de los códigos postales que tenemos en la siguiente lista:\n",
    "codigos_postales = [\"12345\", \"190037\", \"78409\", \"986449\", \"19305\"]"
   ]
  },
  {
   "cell_type": "code",
   "execution_count": 34,
   "metadata": {},
   "outputs": [
    {
     "name": "stdout",
     "output_type": "stream",
     "text": [
      "El 12345 no tiene formato válido\n",
      "El 190037 no tiene formato válido\n",
      "El 78409 no tiene formato válido\n",
      "El 986449 no tiene formato válido\n",
      "El 19305 no tiene formato válido\n"
     ]
    }
   ],
   "source": [
    "import re\n",
    "     \n",
    "codigos_postales = [\"12345\", \"190037\", \"78409\", \"986449\", \"19305\"]\n",
    "\n",
    "patron_codigo= r\"^\\d{5}$\"\n",
    "\n",
    "for elemento in codigos_postales:\n",
    "    if re.match(patron1,elemento):\n",
    "        print(f'El {elemento} tiene formato correcto')\n",
    "    else:\n",
    "       print(f'El {elemento} no tiene formato válido')\n",
    "\n",
    "\n"
   ]
  },
  {
   "cell_type": "markdown",
   "metadata": {},
   "source": [
    "4 Encontrar todas las palabras que comienzan con una vocal en un texto.\n",
    "Descripción: Encontrar todas las palabras en un texto que comienzan con una vocal (a, e, i, o, u).\n",
    "Probad con el siguiente string:\n",
    "texto = \"El perro está ladrando. Ana tiene una manzana. La casa es grande.\""
   ]
  },
  {
   "cell_type": "code",
   "execution_count": 35,
   "metadata": {},
   "outputs": [
    {
     "name": "stdout",
     "output_type": "stream",
     "text": [
      "Las palabras que comienzan con una vocal en el texto son: ['El', 'está', 'Ana', 'una', 'es']\n"
     ]
    }
   ],
   "source": [
    "import re\n",
    "\n",
    "texto = \"El perro está ladrando. Ana tiene una manzana. La casa es grande.\"\n",
    "\n",
    "patron = r'\\b^[aeiouAEIOU]\\w*'\n",
    "\n",
    "palabras = texto.split()\n",
    "\n",
    "palabras_vocales = []\n",
    "\n",
    "for palabra in palabras:\n",
    "    if re.match(r\"^[aeiouAEIOU]\", palabra):\n",
    "        palabras_vocales.append(palabra)\n",
    "\n",
    "print(f\"Las palabras que comienzan con una vocal en el texto son: {palabras_vocales}\")\n",
    "\n",
    "\n"
   ]
  },
  {
   "cell_type": "markdown",
   "metadata": {},
   "source": [
    "5 Extraer todos los hashtags de un texto.\n",
    "Descripción: Extraer todos los hashtags (#) presentes en una cadena de texto.\n",
    "Probad con el siguiente string:\n",
    "texto = \"Me encanta el #deporte. #FelizViernes a todos. Estoy en la conferencia #Tech2022.\""
   ]
  },
  {
   "cell_type": "code",
   "execution_count": 36,
   "metadata": {},
   "outputs": [
    {
     "name": "stdout",
     "output_type": "stream",
     "text": [
      "Hashtags encontrados: ['#deporte', '#FelizViernes', '#Tech2022']\n"
     ]
    }
   ],
   "source": [
    "import re\n",
    "\n",
    "patron = r'#\\w+'\n",
    "\n",
    "for palabra in texto:\n",
    "    if re.match(patron,palabra):\n",
    "\n",
    "        texto = \"Me encanta el #deporte. #FelizViernes a todos. Estoy en la conferencia #Tech2022.\"\n",
    "\n",
    "print(f\"Hashtags encontrados: {hashtags}\")\n",
    "\n"
   ]
  },
  {
   "cell_type": "markdown",
   "metadata": {},
   "source": [
    "6 Buscar todos los números decimales en una cadena de texto.\n",
    "Descripción: Encontrar todos los números decimales presentes en una cadena de texto.\n",
    "Probad con el siguiente string:\n",
    "texto = \"El precio es $19.99. La temperatura es 25.5°C. El índice de inflación es del 2.5%.\"     "
   ]
  },
  {
   "cell_type": "code",
   "execution_count": 37,
   "metadata": {},
   "outputs": [
    {
     "name": "stdout",
     "output_type": "stream",
     "text": [
      "Los números decimales en el texto son: ['19.99', '25.5', '2.5']\n"
     ]
    }
   ],
   "source": [
    "import re\n",
    "\n",
    "texto = \"El precio es $19.99. La temperatura es 25.5°C. El índice de inflación es del 2.5%.\"\n",
    "\n",
    "numeros_decimales = re.findall(r\"\\d+\\.\\d+\", texto)\n",
    "\n",
    "print(f\"Los números decimales en el texto son: {numeros_decimales}\")\n",
    "\n"
   ]
  },
  {
   "cell_type": "markdown",
   "metadata": {},
   "source": [
    "7 Validar un nombre de usuario.\n",
    "Descripción: Verificar si una cadena representa un nombre de usuario válido, que contiene solo letras minúsculas, números y guiones bajos (_).\n",
    "Probad con la siguiente lista de usuarios:\n",
    "lista_usuarios = [\"juan_doe123\", \"lola_12\", \"Aurora_23\", \"12marta_lopez\"]"
   ]
  },
  {
   "cell_type": "code",
   "execution_count": 38,
   "metadata": {},
   "outputs": [
    {
     "name": "stdout",
     "output_type": "stream",
     "text": [
      "El nombre de usuario juan_doe123 es valido\n",
      "El nombre de usuario lola_12 es valido\n",
      "El nombre de usuario Aurora_23 no es válido\n",
      "El nombre de usuario 12marta_lopez es valido\n"
     ]
    }
   ],
   "source": [
    "import re\n",
    "\n",
    "lista_usuarios = [\"juan_doe123\", \"lola_12\", \"Aurora_23\", \"12marta_lopez\"]\n",
    "\n",
    "patron = r'^[a-z0-9_]+$'\n",
    "    \n",
    "for usuario in lista_usuarios:    \n",
    "    if re.match(patron, usuario):\n",
    "        print(f'El nombre de usuario {usuario} es valido')\n",
    "    else:\n",
    "       print(f'El nombre de usuario {usuario} no es válido')\n"
   ]
  },
  {
   "cell_type": "markdown",
   "metadata": {},
   "source": [
    "8 Encontrar todas las fechas en formato \"dd/mm/aaaa\" en un texto.\n",
    "Descripción: Encontrar todas las fechas válidas en formato \"dd/mm/aaaa\" presentes en una cadena de texto.\n",
    "Probad con el siguiente string:\n",
    "texto = \"La fecha límite es el 31/12/2022. Hoy es 01/01/2023. Cumpleaños: 15/05/1990.\""
   ]
  },
  {
   "cell_type": "code",
   "execution_count": 39,
   "metadata": {},
   "outputs": [
    {
     "data": {
      "text/plain": [
       "['31/12/2022', '01/01/2023', '15/05/1990']"
      ]
     },
     "execution_count": 39,
     "metadata": {},
     "output_type": "execute_result"
    }
   ],
   "source": [
    "import re\n",
    "\n",
    "texto = \"La fecha límite es el 31/12/2022. Hoy es 01/01/2023. Cumpleaños: 15/05/1990.\"\n",
    "\n",
    "coincidencias = re.findall(r\"\\d{2}/\\d{2}/\\d{4}\", texto)\n",
    "coincidencias"
   ]
  },
  {
   "cell_type": "markdown",
   "metadata": {},
   "source": [
    "9 Remover caracteres especiales.\n",
    "Descripción: Dada una cadena de texto, remover cualquier carácter especial, como signos de puntuación y símbolos.\n",
    "Probad con el siguiente string:\n",
    "texto = '¡Hola, cómo estás? ¿Todo bien?'"
   ]
  },
  {
   "cell_type": "code",
   "execution_count": 40,
   "metadata": {},
   "outputs": [
    {
     "name": "stdout",
     "output_type": "stream",
     "text": [
      "El texto sin caracteres especiales es:  Hola cómo estás Todo bien \n"
     ]
    }
   ],
   "source": [
    "import re\n",
    "\n",
    "texto = '¡Hola, cómo estás? ¿Todo bien?'\n",
    "\n",
    "texto_limpio = re.sub(r'\\W+', ' ', texto)\n",
    "\n",
    "print(f\"El texto sin caracteres especiales es: {texto_limpio}\")\n",
    "\n"
   ]
  },
  {
   "cell_type": "code",
   "execution_count": null,
   "metadata": {},
   "outputs": [],
   "source": []
  }
 ],
 "metadata": {
  "kernelspec": {
   "display_name": "base",
   "language": "python",
   "name": "python3"
  },
  "language_info": {
   "codemirror_mode": {
    "name": "ipython",
    "version": 3
   },
   "file_extension": ".py",
   "mimetype": "text/x-python",
   "name": "python",
   "nbconvert_exporter": "python",
   "pygments_lexer": "ipython3",
   "version": "3.9.7"
  }
 },
 "nbformat": 4,
 "nbformat_minor": 2
}
