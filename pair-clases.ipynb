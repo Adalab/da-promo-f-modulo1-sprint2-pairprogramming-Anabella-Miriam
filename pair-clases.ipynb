{
 "cells": [
  {
   "cell_type": "markdown",
   "metadata": {},
   "source": [
    "1.En este ejercicio de pair programming, vamos a crear una clase para gestionar la información de los empleados de nuestra empresa. Siguiendo las indicaciones del jefe, necesitamos organizar los datos de cada empleado de manera más estructurada.\n",
    "\n",
    "La clase Empleados permite gestionar información relacionada con los empleados de una empresa, con las siguientes \n",
    "\n",
    "características:\n",
    "Debes crear una clase llamada \"Empleados\" que tenga los siguientes atributos: nombre, apellidos, edad, posicion, año , vacaciones(cantidad de días de vacaciones que le quedan al empleado) y herramientas.\n",
    "El constructor __init__ debe recibir estos atributos como parámetros y asignarlos a los respectivos atributos de la clase.\n",
    "Los atributos representan la información personal y profesional de un empleado, como su nombre completo, edad, posición en la empresa, año de ingreso, días de vacaciones disponibles y una lista de herramientas que el empleado sabe utilizar.\n",
    "\n",
    "Los métodos que debe recibir esta clase son:\n",
    "\n",
    "Método descripcion: Proporciona una descripción del empleado, incluyendo su nombre, posición en la empresa, y la cantidad de días de vacaciones que le quedan para el año actual. \n",
    "\n",
    "Los pasos para resolver el ejercicio del método descripcion son:\n",
    "- Utilizar F-Strings: Utiliza f-strings para construir la descripción del empleado de manera legible y eficiente.\n",
    "\n",
    "- Especificar los Atributos a Incluir: Determina cuáles de los atributos del empleado se deben incluir en la descripción. Los atributos necesarios son nombre, posicion, año, y vacaciones.\n",
    "\n",
    "- Concatenar los Atributos: Usar f-strings para concatenar los atributos seleccionados y crear una descripción coherente.\n",
    "\n",
    "2. Método cambiando_posicion: Verifica las herramientas que el empleado tiene en su lista y devuelve un mensaje específico basado en las herramientas. Puede elogiar al empleado si tiene \"Python\" en su lista o sugerirle que deje de usar \"Excel\" y aprenda Python. Los pasos para resolver este ejercicio son:\n",
    "\n",
    "- Iterar a través de las Herramientas: La función debe recorrer la lista de herramientas (self.herramientas) del empleado.\n",
    "\n",
    "- Evaluar Cada Herramienta: Para cada herramienta en la lista, verifica si es igual a \"Python\" o \"Excel\" (en minúsculas).\n",
    "\n",
    "3. Método calcular_antiguedad: Calcula la antigüedad del empleado en años y meses desde el año de ingreso hasta la fecha actual.\n",
    "- Calcular la Antigüedad en Años y Meses: Utiliza el módulo datetime de Python para obtener el año actual y el mes actual.\n",
    "\n",
    "- Generar el Mensaje de Antigüedad: Usa los valores calculados para años y meses de antigüedad para generar un mensaje descriptivo. Por ejemplo, \"Juan lleva 5 años y 3 meses en la empresa\".\n",
    "\n",
    "4. Método solicitar_aumento_vacaciones: Permite al empleado solicitar un aumento en la cantidad de días de vacaciones. Si la solicitud es válida (es decir, se solicitan días positivos), actualiza los días de vacaciones del empleado y devuelve un mensaje de confirmación. \n",
    "\n",
    "Recibirá un parámetro dias_solicitados, que corresponderá con el número de días de vacaciones que quiere solicitar.\n",
    "\n",
    "- Validar los Días Solicitados: Utiliza una estructura de control para verificar si la cantidad de días solicitados (dias_solicitados) es mayor que cero. Esto garantiza que solo se procesen solicitudes de aumento válidas.\n",
    "\n",
    "- Actualizar los Días de Vacaciones: Si la solicitud es válida, aumenta la cantidad de días de vacaciones del empleado (self.vacaciones) sumando la cantidad de días solicitados.\n",
    "\n",
    "- Generar un Mensaje de Confirmación: Crea un mensaje informativo que confirme la aprobación de la solicitud y muestre la cantidad actualizada de días de vacaciones del empleado.\n",
    "\n",
    "- Manejar Solicitudes No Válidas: Si la solicitud no es válida (es decir, dias_solicitados es menor o igual a cero), generar un mensaje de error que indique que la solicitud debe ser un número positivo. \n",
    "\n",
    "5.Método registrar_herramienta: Permite al empleado registrar una nueva herramienta en su lista de habilidades. La herramienta se registra si no está registrada previamente en la lista de herramientas del empleado. Recibirá un parámetro que será la nueva herramienta.\n",
    "\n",
    "- Validar la Nueva Herramienta: Utiliza una estructura de control para verificar si la nueva herramienta no está en la lista de herramientas existentes.\n",
    "\n",
    "- Agregar la Nueva Herramienta: Si la nueva herramienta no está en la lista existente, agregarla a la lista.\n",
    "\n",
    "- Generar un Mensaje de Confirmación: Crea un mensaje informativo que confirme el registro exitoso de la nueva herramienta y muestre el nombre de la herramienta registrada.\n",
    "\n",
    "- Manejar Herramientas Duplicadas: Si la nueva herramienta ya existe en la lista, genera un mensaje que indique que la herramienta ya ha sido registrada previamente.\n",
    "\n",
    "6.Método cambiar_posicion: Permite al empleado cambiar su posición y salario en la empresa. Actualiza la posición y el salario y devuelve un mensaje de felicitación. Recibirá dos parámetros, la nueva posición y el nuevo salario.\n",
    "\n",
    "- Actualizar la Posición y el Salario: Utiliza los parámetros nueva_posicion y nuevo_salario para actualizar la posición y el salario del empleado.\n",
    "\n",
    "- Generar un Mensaje de Confirmación: Crea un mensaje informativo que confirme el cambio de posición y salario del empleado y muestre el nombre del empleado, la nueva posición y el nuevo salario.\n",
    "\n",
    "7.Método tomar_vacaciones: Permite al empleado tomar días de vacaciones, solicitando la cantidad deseada y actualizando los días de vacaciones restantes. \n",
    "\n",
    "- Verifica que se solicite al menos un día de vacaciones y que el empleado tenga suficientes días disponibles. No recibe ningún parámetro adicional.\n",
    "\n",
    "- Solicitar la Cantidad de Días de Vacaciones: Usar la función input para solicitar al usuario la cantidad de días de vacaciones que desea tomar.\n",
    "\n",
    "- Validar la Cantidad de Días: Comprueba que la cantidad de días solicitados sea mayor que cero. Si el usuario ingresa un valor no válido (cero o negativo), muestra un mensaje de error y solicita nuevamente la cantidad de días hasta que sea válida.\n",
    "\n",
    "- Verificar Disponibilidad de Días de Vacaciones: Comprueba si la cantidad de días solicitados es menor o igual a la cantidad de días de vacaciones disponibles para el empleado.\n",
    "\n",
    "- Actualizar Días de Vacaciones: Si hay suficientes días de vacaciones disponibles, modifica el código para que se modifiquen los días de vacaciones que le quedan. Si no hay suficientes días disponibles, mostrar un mensaje de error.\n",
    "\n",
    "- Generar un Mensaje de Confirmación o Error: Dependiendo de si la solicitud se procesó con éxito o no, genera un mensaje que informe al empleado sobre el resultado de su solicitud.\n",
    "\n",
    "8.Método solicitar_aumento_salario: Permite al empleado solicitar un aumento de salario en porcentaje y calcula el nuevo salario. \n",
    "\n",
    "- Verifica que el aumento sea un valor positivo o igual a cero. Este método no recibe ningún parámetro.\n",
    "\n",
    "- Solicitar el Porcentaje de Aumento de Salario: Utiliza la función input para solicitar al usuario el porcentaje de aumento de salario que desea. Asegurate de que el valor ingresado sea un número decimal.\n",
    "\n",
    "- Validar el Porcentaje de Aumento: Utiliza un bucle while para garantizar que el porcentaje de aumento sea mayor o igual a cero. Si el usuario ingresa un valor no válido (negativo), muestra un mensaje de error y solicita nuevamente el porcentaje hasta que sea válido.\n",
    "\n",
    "- Calcular el Nuevo Salario: Calcula el nuevo salario.\n",
    "\n",
    "- Generar un Mensaje de Confirmación: Crea un mensaje que informe al empleado sobre el resultado de su solicitud. Incluye el nuevo salario calculado en el mensaje.\n",
    "\n",
    "- Manejar Errores de Entrada: Utiliza un bloque try...except para manejar posibles errores de entrada, como cuando el usuario ingresa un valor que no se puede convertir a un número decimal.\n",
    "\n",
    "9. Método realizar_evaluacion: Permite al empleado recibir una calificación de desempeño, con opciones como \"Excelente\", \"Bueno\", \"Regular\" o \"Malo\". \n",
    "\n",
    "- Verifica que la calificación ingresada sea válida. Este método no recibe ningún parámetro.\n",
    "\n",
    "- Solicitar la Calificación del Desempeño: Utiliza la función input para solicitar al usuario que califique su propio desempeño. Asegurate de que el valor ingresado sea una de las opciones válidas: \"excelente\", \"bueno\", \"regular\" o \"malo\".\n",
    "\n",
    "- Validar la Calificación: Utiliza un bucle while para garantizar que la calificación ingresada sea una de las opciones válidas. Si el usuario ingresa una calificación no válida, muestra un mensaje de error y solicita nuevamente la calificación hasta que sea válida.\n",
    "\n",
    "- Generar un Mensaje de Retroalimentación: Crear un mensaje que proporcione retroalimentación al empleado basada en la calificación ingresada.\n",
    "\n",
    "- Retornar el Mensaje Generado: La función debe incluir una instrucción return que devuelva el mensaje generado.\n",
    "\n",
    "2. En este ejercicio, se te pide crear una herencia de la clase creada en el ejercicio anterior. Esta clase hija se llama \"Gerente\" que hereda de la clase creada en el ejercicio anterior. Las instrucciones para crear esta clase son:\n",
    "\n",
    "- Crea la clase derivada \"Gerente\" que hereda de la clase \"Empleados\". Esta clase debe tener los siguientes atributos en su constructor además de los heredados de \"Empleados\":\n",
    "\n",
    "- departamento (str): El departamento al que está asignado el gerente.\n",
    "\n",
    "- empleados_a_cargo (list): Una lista que contiene los nombres de los empleados que están a cargo del gerente.\n",
    "\n",
    ". Implementa los siguientes métodos en la clase \"Gerente\":\n",
    "\n",
    "- asignar_tareas(tarea, empleado): Este método debe recibir el nombre de una tarea y el nombre de un empleado y debe devolver una cadena que indique que el gerente ha asignado la tarea a ese empleado.\n",
    "\n",
    "- revisar_desempeno_empleado(empleado): Este método debe recibir el nombre de un empleado y debe devolver una cadena que indique que el gerente está revisando el desempeño de ese empleado.\n",
    "\n",
    "- gestionar_empleados(accion, empleado): Este método permite al gerente realizar acciones de contratación o despido de empleados a cargo. Debe recibir una acción (\"contratar\" o \"despedir\") y el nombre de un empleado. Si la acción es \"contratar\", agrega al empleado a la lista de empleados a cargo y devuelve un mensaje indicando que el empleado ha sido contratado por el gerente. Si la acción es \"despedir\" y el empleado está en la lista de empleados a cargo, lo elimina y devuelve un mensaje de despido. Si la acción no es válida, devuelve un mensaje indicando que la acción no es válida.\n",
    "\n"
   ]
  },
  {
   "cell_type": "code",
   "execution_count": 50,
   "metadata": {},
   "outputs": [],
   "source": [
    "import datetime\n",
    "class Empleados():\n",
    "    def __init__(self, nombre, apellido,edad,posicion,año,vacaciones,herramientas,salario):\n",
    "        self.nombre = nombre\n",
    "        self.apellido = apellido\n",
    "        self.edad= edad\n",
    "        self.posicion = posicion\n",
    "        self.año = año\n",
    "        self.vacaciones = vacaciones\n",
    "        self.herramientas = herramientas\n",
    "        self.salario= salario #Agregué este atributo para poder utilizarlo en dos metodos diferentes\n",
    "\n",
    "    def descripcion(self): \n",
    "        return f\" Nombre: {self.nombre} Apellido: {self.apellido}, atualmente trabajando de {self.posicion}. Tiene {self.vacaciones} dias de vacaciones\"\n",
    "    \n",
    "    def cambiando_posicion(self):\n",
    "        for herramientas in self.herramientas:\n",
    "             if herramientas == 'python'.lower():\n",
    "                 return 'Muy bien, sabes python'\n",
    "             else:\n",
    "                 return f'tus herramientas son {self.herramientas}, Python no esta en tu lista de herramientas. Deberias aprender python'\n",
    "             \n",
    "    def calcular_antiguedad(self): #Este metodo no funciona \n",
    "        self.año= (00,self.año)\n",
    "        año_actual = datetime.datetime.now().year\n",
    "        mes_actual =datetime.datetime.now().month\n",
    "        meses = mes_actual -1\n",
    "        antiguedad= año_actual - self.año\n",
    "        return f'{self.nombre} lleva {antiguedad}  y {meses} de antiguedad' \n",
    "        \n",
    "\n",
    "    def solicitar_aumento_vacaciones(self, dias_solicitados):\n",
    "        if dias_solicitados > 0:\n",
    "            self.vacaciones += dias_solicitados\n",
    "            return f'Los dias solicitados son aceptados. Tiene en total {self.vacaciones} dias' \n",
    "        else:\n",
    "            return f\"Solicitud inválida. La solicitud debe ser en numero positivo\"\n",
    "        \n",
    "    def registrar_herramienta(self):    #este metodo no funciona\n",
    "        herramienta = input('Ingrese una nueva herramienta: ')\n",
    "        for elemento in self.herramientas:\n",
    "            if herramienta in self.herramientas:\n",
    "                return f'La herramienta {elemento} ya se encuentra en la lista'\n",
    "            else:\n",
    "                self.herramientas.append(elemento)\n",
    "                return f'La Herramienta {elemento} agregada con éxito'\n",
    "            \n",
    "    def cambiar_posicion(self,nueva_posicion, nuevo_salario):\n",
    "        nueva_posicion = nueva_posicion\n",
    "        self.salario = self.salario + nuevo_salario\n",
    "\n",
    "        return f'Felicitaciones {self.nombre} por tu nuevo puesto de {nueva_posicion}. Tu nuevo salario serà de {self.salario}'\n",
    "\n",
    "    def tomar_vacaciones(self):\n",
    "        dias_solicitados= int(input('Ingrese la cantidad de dias que desea:'))\n",
    "        while dias_solicitados< 0:\n",
    "          dias_solicitados= int(input('Ingrese un número válido, por favor:'))\n",
    "        if dias_solicitados <= self.vacaciones:\n",
    "            self.vacaciones-=dias_solicitados\n",
    "            return f'Solicitud con exito. Le quedan disponibles {self.vacaciones} dias'\n",
    "        else:\n",
    "            return \"No tienes suficientes días para tomarse.\"\n",
    "        \n",
    "    def solicitar_aumento_salario (self): \n",
    "        try:\n",
    "            solicitar_aumento = int(input('Ingrese el porcentaje de aumento: '))\n",
    "            while solicitar_aumento <= 0:\n",
    "             solicitar_aumento = int(input(\"Por favor ingrese un valor valido\"))\n",
    "            self.salario= self.salario*solicitar_aumento/100 + self.salario\n",
    "            return f'{self.nombre}, tu solicitud ha sido generada con éxito. Tu sueldo actual es {self.salario}'\n",
    "        except:\n",
    "             'Solicitud errónea'\n",
    "\n",
    "    def solicitar_evaluacion(self):\n",
    "        opciones = ['excelente', 'bueno', 'regular', 'malo']\n",
    "        calificacion = input(f'Por favor, califica tu propio desempeño utilizando las siguientes opciones: {opciones}').lower()\n",
    "        while calificacion not in opciones:\n",
    "            calificacion = input(f'Por favor, califica tu propio desempeño utilizando las siguientes opciones: {opciones}').lower()\n",
    "\n",
    "        if calificacion == 'excelente':\n",
    "                return 'Estas trabajando muy bien. Has aportado mucho al equipo'\n",
    "        elif calificacion== 'bueno':\n",
    "                return 'Estas tarbajando muy bien pero necesitamos que participes mas en las reuniones'\n",
    "        elif calificacion == 'regular':\n",
    "                return 'Necesitas mejorar'\n",
    "        elif calificacion == 'malo':\n",
    "                return 'Estas a punto de ser despedido'"
   ]
  },
  {
   "cell_type": "code",
   "execution_count": 37,
   "metadata": {},
   "outputs": [],
   "source": [
    "class Gerente(Empleados):\n",
    "    def __init__(self, nombre, apellido,edad,posicion,año,vacaciones,herramientas,salario,departamento,empleados_a_cargo,):\n",
    "        super().__init__(nombre,apellido,edad,posicion,año,vacaciones,herramientas,salario)\n",
    "\n",
    "        self.departamento = departamento\n",
    "        self.empleados_a_cargo = empleados_a_cargo\n",
    "\n",
    "    def asignar_tareas(self,tarea,empleado):\n",
    "        return f'El gerente ha asignado la tarea: {tarea} a el empleado: {empleado}'\n",
    "    \n",
    "    def revisar_desempeno_empleado(self,empleado):\n",
    "        return f'{empleado}, el gerente actualmente esta revisando tu desempeño.'\n",
    "    \n",
    "    def gestionar_empleado(self, accion,empleado):\n",
    "        if accion == 'contratar':\n",
    "            self.empleados_a_cargo.append(empleado)\n",
    "            return f'El empleado {empleado} ha sido contratado por el gerente'\n",
    "        elif accion == 'despedir':\n",
    "            if empleado in self.empleados_a_cargo:\n",
    "                self.empleados_a_cargo.remove(empleado)\n",
    "                return f'Lo sentimos {empleado} pero estas despedido'\n",
    "            else:\n",
    "                'La acción no es válida'\n"
   ]
  },
  {
   "cell_type": "code",
   "execution_count": 38,
   "metadata": {},
   "outputs": [],
   "source": [
    "empleado1= Empleados('Anabella', 'Fontana', 35, 'Analista de datos', 2023, 20, ['ingles', 'excel'], 1500)"
   ]
  },
  {
   "cell_type": "code",
   "execution_count": 39,
   "metadata": {},
   "outputs": [],
   "source": [
    "#empleado1.descripcion()"
   ]
  },
  {
   "cell_type": "code",
   "execution_count": 40,
   "metadata": {},
   "outputs": [],
   "source": [
    "#empleado1.calcular_antiguedad() DA ERROR"
   ]
  },
  {
   "cell_type": "code",
   "execution_count": 41,
   "metadata": {},
   "outputs": [],
   "source": [
    "#empleado1.cambiando_posicion()"
   ]
  },
  {
   "cell_type": "code",
   "execution_count": 42,
   "metadata": {},
   "outputs": [],
   "source": [
    "#empleado1.solicitar_evaluacion()"
   ]
  },
  {
   "cell_type": "code",
   "execution_count": 43,
   "metadata": {},
   "outputs": [],
   "source": [
    "#empleado1.solicitar_aumento_vacaciones(5)"
   ]
  },
  {
   "cell_type": "code",
   "execution_count": 44,
   "metadata": {},
   "outputs": [],
   "source": [
    "#empleado1.registrar_herramienta NO FUNCIONA"
   ]
  },
  {
   "cell_type": "code",
   "execution_count": 46,
   "metadata": {},
   "outputs": [
    {
     "data": {
      "text/plain": [
       "\"tus herramientas son ['ingles', 'excel'], Python no esta en tu lista de herramientas. Deberias aprender python\""
      ]
     },
     "execution_count": 46,
     "metadata": {},
     "output_type": "execute_result"
    }
   ],
   "source": [
    "empleado1.cambiando_posicion()"
   ]
  },
  {
   "cell_type": "code",
   "execution_count": 47,
   "metadata": {},
   "outputs": [
    {
     "data": {
      "text/plain": [
       "'Felicitaciones Anabella por tu nuevo puesto de Manager. Tu nuevo salario serà de 3500'"
      ]
     },
     "execution_count": 47,
     "metadata": {},
     "output_type": "execute_result"
    }
   ],
   "source": [
    "#empleado1.cambiar_posicion('Manager', 2000)"
   ]
  },
  {
   "cell_type": "code",
   "execution_count": 49,
   "metadata": {},
   "outputs": [
    {
     "data": {
      "text/plain": [
       "'Solicitud con exito. Le quedan disponibles 10'"
      ]
     },
     "execution_count": 49,
     "metadata": {},
     "output_type": "execute_result"
    }
   ],
   "source": [
    "#empleado1.tomar_vacaciones()"
   ]
  },
  {
   "cell_type": "code",
   "execution_count": 51,
   "metadata": {},
   "outputs": [
    {
     "data": {
      "text/plain": [
       "'Anabella, tu solicitud ha sido generada con éxito. Tu sueldo actual es 4200.0'"
      ]
     },
     "execution_count": 51,
     "metadata": {},
     "output_type": "execute_result"
    }
   ],
   "source": [
    "#empleado1.solicitar_aumento_salario()"
   ]
  }
 ],
 "metadata": {
  "kernelspec": {
   "display_name": "base",
   "language": "python",
   "name": "python3"
  },
  "language_info": {
   "codemirror_mode": {
    "name": "ipython",
    "version": 3
   },
   "file_extension": ".py",
   "mimetype": "text/x-python",
   "name": "python",
   "nbconvert_exporter": "python",
   "pygments_lexer": "ipython3",
   "version": "3.9.7"
  },
  "orig_nbformat": 4
 },
 "nbformat": 4,
 "nbformat_minor": 2
}
